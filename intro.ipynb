{
 "cells": [
  {
   "cell_type": "markdown",
   "id": "1af989aa",
   "metadata": {},
   "source": [
    "### Introdução"
   ]
  },
  {
   "cell_type": "markdown",
   "id": "0f2ed260",
   "metadata": {},
   "source": [
    "#### Python\n",
    "* Sintaxe Limpa e Legível\n",
    "* Interpretado e de Alto Nível\n",
    "* Facilidade de Aprendizado e Uso\n",
    "\n",
    "### Pipeline\n",
    "* Python(variaveis, cndicionais, loops iterativos, funções, classes)\n",
    "* Exercícios na Plataforma URI\n",
    "* SQL\n",
    "* Engenharia de Dados"
   ]
  },
  {
   "cell_type": "markdown",
   "id": "bcff1f3e",
   "metadata": {},
   "source": [
    "### Introdução ao Python:\n",
    "* Instalação do Python e ambiente de desenvolvimento (ex: Anaconda, Jupyter Notebook)."
   ]
  },
  {
   "cell_type": "code",
   "execution_count": null,
   "id": "fb914b21",
   "metadata": {},
   "outputs": [],
   "source": []
  },
  {
   "cell_type": "markdown",
   "id": "af0aaeb8",
   "metadata": {},
   "source": [
    "### Conceitos Básicos:\n",
    "* Variáveis e Tipos de Dados:\n",
    "* Números (inteiros, ponto flutuante).\n",
    "* Strings.\n",
    "* Listas.\n",
    "* Dicionários.\n"
   ]
  },
  {
   "cell_type": "code",
   "execution_count": null,
   "id": "19960f3c",
   "metadata": {},
   "outputs": [],
   "source": []
  },
  {
   "cell_type": "markdown",
   "id": "e7dd9b82",
   "metadata": {},
   "source": [
    "\n",
    "### Estruturas de Controle:\n",
    "* Condicionais (if, else, elif).\n",
    "* Tomada de decisões com base em condições.\n",
    "* Loops Iterativos (for, while).\n",
    "* Execução repetitiva de código."
   ]
  },
  {
   "cell_type": "code",
   "execution_count": null,
   "id": "03c988ee",
   "metadata": {},
   "outputs": [],
   "source": []
  },
  {
   "cell_type": "markdown",
   "id": "cd54e11d",
   "metadata": {},
   "source": [
    "\n",
    "### Funções:\n",
    "* Definição de Funções.\n",
    "* Sintaxe e estrutura básica.\n",
    "* Parâmetros e Argumentos.\n",
    "* Passagem de dados para funções.\n",
    "* Retorno de Funções.\n",
    "* Utilização do return."
   ]
  },
  {
   "cell_type": "code",
   "execution_count": null,
   "id": "aed25a8b",
   "metadata": {},
   "outputs": [],
   "source": []
  },
  {
   "cell_type": "markdown",
   "id": "ec3a5185",
   "metadata": {},
   "source": [
    "### Prática e Projetos Simples:\n",
    "* Aplicação prática dos conceitos aprendidos.\n",
    "* Pequenos projetos para consolidar o conhecimento.\n",
    "\n",
    "Exercícios URI\n",
    "* [Extremamente Básico](https://www.beecrowd.com.br/judge/pt/problems/view/1001)\n",
    "* [Área do Círculo](https://www.beecrowd.com.br/judge/pt/problems/view/1002)\n",
    "* [Soma Simples](https://www.beecrowd.com.br/judge/pt/problems/view/1003)\n",
    "* [Média](https://www.beecrowd.com.br/judge/pt/problems/view/1006)\n",
    "* [**Soma Natural**](https://www.beecrowd.com.br/judge/pt/problems/view/1805)\n",
    "\n",
    "Condicionais\n",
    "* [O Maior](https://www.beecrowd.com.br/judge/pt/problems/view/1013)\n",
    "* [Intervalo](https://www.beecrowd.com.br/judge/pt/problems/view/1037)\n",
    "* [Lanchonete](https://www.beecrowd.com.br/judge/pt/problems/view/1038)\n",
    "* [Tipos de Triangulo](https://www.beecrowd.com.br/judge/pt/problems/view/1045)\n",
    "* [Tempo de Jogo](https://www.beecrowd.com.br/judge/pt/problems/view/1046)\n",
    "* [Sort Simples](https://www.beecrowd.com.br/judge/pt/problems/view/1042)\n",
    "\n",
    "Loops\n",
    "* [Pares](https://www.beecrowd.com.br/judge/pt/problems/view/1059)\n",
    "* [Intervalo 2](https://www.beecrowd.com.br/judge/pt/problems/view/1072)\n",
    "* [Experiencias](https://www.beecrowd.com.br/judge/pt/problems/view/1094)\n",
    "* [Sequência de Números e Soma](https://www.beecrowd.com.br/judge/pt/problems/view/1101)\n",
    "* [Seuqncia IJ](https://www.beecrowd.com.br/judge/pt/problems/view/1095)\n",
    "* [Senha Fixa](https://www.beecrowd.com.br/judge/pt/problems/view/1114)\n",
    "* [Grenais](https://www.beecrowd.com.br/judge/pt/problems/view/1131)\n",
    "\n",
    "Strings\n",
    "* [Tuitando](https://www.beecrowd.com.br/judge/pt/problems/view/2165)\n",
    "* [Bibilioteca](https://www.beecrowd.com.br/judge/pt/problems/view/2137)\n",
    "* [Salário](https://www.beecrowd.com.br/judge/pt/problems/view/1009)\n",
    "* [**Cifra César**](https://www.beecrowd.com.br/judge/pt/problems/view/1253)\n",
    "* [Conversa](https://www.beecrowd.com.br/judge/pt/problems/view/1581)\n",
    "* [Atalhos](https://www.beecrowd.com.br/judge/pt/problems/view/1239)\n"
   ]
  }
 ],
 "metadata": {
  "kernelspec": {
   "display_name": "Python 3",
   "language": "python",
   "name": "python3"
  },
  "language_info": {
   "codemirror_mode": {
    "name": "ipython",
    "version": 3
   },
   "file_extension": ".py",
   "mimetype": "text/x-python",
   "name": "python",
   "nbconvert_exporter": "python",
   "pygments_lexer": "ipython3",
   "version": "3.10.12"
  }
 },
 "nbformat": 4,
 "nbformat_minor": 5
}
