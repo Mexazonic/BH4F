{
 "cells": [
  {
   "cell_type": "markdown",
   "id": "1af989aa",
   "metadata": {},
   "source": [
    "### Introdução"
   ]
  },
  {
   "cell_type": "markdown",
   "id": "0f2ed260",
   "metadata": {},
   "source": [
    "#### Python\n",
    "* Sintaxe Limpa e Legível\n",
    "* Interpretado e de Alto Nível\n",
    "* Facilidade de Aprendizado e Uso\n",
    "\n",
    "### Pipeline\n",
    "* Python(variaveis, condicionais, loops iterativos, funções, classes)\n",
    "* Exercícios na Plataforma URI\n",
    "* SQL\n",
    "* Engenharia de Dados"
   ]
  },
  {
   "cell_type": "markdown",
   "id": "bcff1f3e",
   "metadata": {},
   "source": [
    "### Introdução ao Python:\n",
    "* Instalação do Python e ambiente de desenvolvimento (ex: Anaconda, Jupyter Notebook)."
   ]
  },
  {
   "cell_type": "markdown",
   "id": "af0aaeb8",
   "metadata": {},
   "source": [
    "### Conceitos Básicos:\n",
    "* Variáveis e Tipos de Dados:\n",
    "* Números (inteiros, ponto flutuante).\n",
    "* Strings.\n",
    "* Listas.\n",
    "* Dicionários.\n"
   ]
  },
  {
   "cell_type": "markdown",
   "id": "80c6dc84",
   "metadata": {},
   "source": [
    "### Tipos de Variaveis"
   ]
  },
  {
   "cell_type": "code",
   "execution_count": 19,
   "id": "19960f3c",
   "metadata": {},
   "outputs": [
    {
     "name": "stdout",
     "output_type": "stream",
     "text": [
      "Bruno Henrique <class 'str'>\n",
      "a <class 'str'>\n",
      "777 <class 'int'>\n",
      "4.5923 1.78 <class 'float'> <class 'float'>\n",
      "[1, 2, 3, 4, 5]\n",
      "['1', '2', '3', '4', '5']\n"
     ]
    }
   ],
   "source": [
    "# String Caracteres\n",
    "nome = 'Bruno Henrique'\n",
    "print(nome, type(nome))\n",
    "letra = 'a'\n",
    "print(letra, type(letra))\n",
    "\n",
    "# Valores Inteiros\n",
    "valor_inteiro = 777\n",
    "print(valor_inteiro, type(valor_inteiro))\n",
    "\n",
    "# Float Double\n",
    "dinheiro = 1.78\n",
    "area = 4.5923\n",
    "print(area, dinheiro, type(area), type(dinheiro))\n",
    "\n",
    "\n",
    "# Lista de inteiros\n",
    "lista = [1, 2, 3, 4, 5]\n",
    "print(lista)\n",
    "\n",
    "# Lista \n",
    "lista = ['1', '2', '3', '4', '5']\n",
    "print(lista)"
   ]
  },
  {
   "cell_type": "markdown",
   "id": "85ad51a1",
   "metadata": {},
   "source": [
    "### Cast Type"
   ]
  },
  {
   "cell_type": "code",
   "execution_count": 30,
   "id": "8c284180",
   "metadata": {},
   "outputs": [
    {
     "name": "stdout",
     "output_type": "stream",
     "text": [
      "finge que tem um valor\n"
     ]
    }
   ],
   "source": [
    "a = ''\n",
    "b = 'finge que tem um valor'\n",
    "print(a + b)"
   ]
  },
  {
   "cell_type": "code",
   "execution_count": null,
   "id": "2ed921a7",
   "metadata": {},
   "outputs": [],
   "source": []
  },
  {
   "cell_type": "code",
   "execution_count": 108,
   "id": "8cf65e44",
   "metadata": {},
   "outputs": [
    {
     "name": "stdout",
     "output_type": "stream",
     "text": [
      "355\n",
      "cpf:                      125.999.396-00                          \n",
      "novo cpf: 125 999 396 00\n"
     ]
    }
   ],
   "source": [
    "valor = '355'\n",
    "valor_convertido = int(valor)\n",
    "print(valor_convertido)\n",
    "\n",
    "# Funções de String\n",
    "cpf = '                     125.999.396-00                          '\n",
    "\n",
    "novo_cpf = cpf.lstrip() # lstrip remove os espaços a esqurda\n",
    "novo_cpf = novo_cpf.rstrip() # rstrip remove os espaços a direita\n",
    "\n",
    "novo_cpf = novo_cpf.replace('.', ' ')\n",
    "novo_cpf = novo_cpf.replace('-', ' ')\n",
    "\n",
    "print('cpf:', cpf)\n",
    "print('novo cpf:', novo_cpf)"
   ]
  },
  {
   "cell_type": "markdown",
   "id": "e7dd9b82",
   "metadata": {},
   "source": [
    "\n",
    "### Estruturas de Controle:\n",
    "* Condicionais (if, else, elif).\n",
    "* Tomada de decisões com base em condições.\n",
    "* Loops Iterativos (for, while).\n",
    "* Execução repetitiva de código."
   ]
  },
  {
   "cell_type": "markdown",
   "id": "bc51a70f",
   "metadata": {},
   "source": [
    "#### Condicionais"
   ]
  },
  {
   "cell_type": "code",
   "execution_count": 79,
   "id": "e48a5575",
   "metadata": {},
   "outputs": [
    {
     "name": "stdout",
     "output_type": "stream",
     "text": [
      "Sim\n"
     ]
    }
   ],
   "source": [
    "nota_corte = 100000\n",
    "numero_habitantes = 60000\n",
    "\n",
    "## Checando se o Valor é exatamente igual\n",
    "if(numero_habitantes == 60000):\n",
    "    print('Sim')\n",
    "else:\n",
    "    print('Não')"
   ]
  },
  {
   "cell_type": "code",
   "execution_count": 47,
   "id": "32da5a25",
   "metadata": {},
   "outputs": [
    {
     "name": "stdout",
     "output_type": "stream",
     "text": [
      "Fora da Campanha\n",
      "Infantil\n",
      "maioridade\n"
     ]
    }
   ],
   "source": [
    "## Condicional - Dois pontos\n",
    "if (numero_habitantes >= nota_corte):\n",
    "    print('Dentro da Campanha')\n",
    "    print('Parabens')\n",
    "else:\n",
    "    print('Fora da Campanha')\n",
    "\n",
    "## Multicondicional\n",
    "idade = 20\n",
    "if (idade >= 0 and idade <= 20):\n",
    "    print('Infantil')\n",
    "    if (idade < 18):\n",
    "        print('menoridade')\n",
    "    else:\n",
    "        print('maioridade')\n",
    "elif (idade > 20 and idade <= 50 ):\n",
    "    print('Adulto')\n",
    "else:\n",
    "    print('Idoso')"
   ]
  },
  {
   "cell_type": "markdown",
   "id": "3046c1df",
   "metadata": {},
   "source": [
    "## Loop Iterativo"
   ]
  },
  {
   "cell_type": "code",
   "execution_count": 69,
   "id": "482205c7",
   "metadata": {
    "scrolled": true
   },
   "outputs": [
    {
     "name": "stdout",
     "output_type": "stream",
     "text": [
      "quantidade_cpfs 6\n",
      "125.324.566-11\n",
      "000.324.586-11\n",
      "512.666.506-77\n"
     ]
    }
   ],
   "source": [
    "dados_cpf = ['125.324.566-11','655.377.123-00', '000.324.586-11','908.777.536-00','512.666.506-77', '512.666.506-99']\n",
    "print('quantidade_cpfs', len(dados_cpf)) # Len tamanho da lista\n",
    "#print(dados_cpf[0]) # Printar Individualmente (0, N-1) \n",
    "\n",
    "for cpf in dados_cpf:\n",
    "    print(cpf)\n",
    "\n",
    "for i in range(0, len(dados_cpf), 2):\n",
    "    print(dados_cpf[i])\n",
    "\n",
    "i = 0\n",
    "limite = len(dados_cpf)\n",
    "while(i < limite):\n",
    "    print(dados_cpf[i])\n",
    "    i = i + 1\n",
    "\n",
    "    "
   ]
  },
  {
   "cell_type": "markdown",
   "id": "65ade94f",
   "metadata": {},
   "source": [
    "### Cpf Par"
   ]
  },
  {
   "cell_type": "code",
   "execution_count": 84,
   "id": "bff7f0e5",
   "metadata": {},
   "outputs": [
    {
     "name": "stdout",
     "output_type": "stream",
     "text": [
      "125.324.566-11 impar\n",
      "655.377.123-00 par\n",
      "000.324.586-11 impar\n",
      "908.777.536-00 par\n",
      "512.666.506-77 impar\n",
      "512.666.506-99 impar\n"
     ]
    }
   ],
   "source": [
    "for cpf in dados_cpf:\n",
    "    verificador = int(cpf[13])\n",
    "    # % Pegar o Resto da divisão\n",
    "    if (verificador%2 == 0): # Verificar par ou impar\n",
    "        print(cpf, 'par')\n",
    "    else:\n",
    "        print(cpf, 'impar')\n"
   ]
  },
  {
   "cell_type": "markdown",
   "id": "cd54e11d",
   "metadata": {},
   "source": [
    "### Funções:\n",
    "* Definição de Funções.\n",
    "* Sintaxe e estrutura básica.\n",
    "* Parâmetros e Argumentos.\n",
    "* Passagem de dados para funções.\n",
    "* Retorno de Funções.\n",
    "* Utilização do return."
   ]
  },
  {
   "cell_type": "code",
   "execution_count": null,
   "id": "094e9982",
   "metadata": {},
   "outputs": [],
   "source": [
    "def RemovePontuacao(cpf):\n",
    "    novo_cpf = cpf.replace('.', '')\n",
    "    novo_cpf = novo_cpf.replace('-','')\n",
    "    \n",
    "    return novo_cpf"
   ]
  },
  {
   "cell_type": "code",
   "execution_count": 94,
   "id": "2583e010",
   "metadata": {},
   "outputs": [
    {
     "name": "stdout",
     "output_type": "stream",
     "text": [
      "125.324.566-11 -> 12532456611\n",
      "655.377.123-00 -> 65537712300\n",
      "000.324.586-11 -> 00032458611\n",
      "908.777.536-00 -> 90877753600\n",
      "512.666.506-77 -> 51266650677\n",
      "512.666.506-99 -> 51266650699\n"
     ]
    }
   ],
   "source": [
    "for cpf in dados_cpf:\n",
    "    print(cpf, '->', RemovePontuacao(cpf))"
   ]
  },
  {
   "cell_type": "code",
   "execution_count": 107,
   "id": "663b3eca",
   "metadata": {},
   "outputs": [
    {
     "name": "stdout",
     "output_type": "stream",
     "text": [
      "['Era', 'uma', 'vez']\n",
      "['Era', 'uma', 'vez']\n",
      "teste\n",
      "teste\n"
     ]
    }
   ],
   "source": [
    "frase = 'Era uma vez'\n",
    "print(frase.split(' '))\n",
    "\n",
    "frase = 'Era,uma,vez'\n",
    "print(frase.split(','))\n",
    "\n",
    "frase = '     teste      '\n",
    "print(frase.strip())\n",
    "\n",
    "frase = '______teste_______'\n",
    "print(frase.strip('_'))"
   ]
  },
  {
   "cell_type": "markdown",
   "id": "ec3a5185",
   "metadata": {},
   "source": [
    "### Prática e Projetos Simples:\n",
    "* Aplicação prática dos conceitos aprendidos.\n",
    "* Pequenos projetos para consolidar o conhecimento.\n",
    "\n",
    "Exercícios URI\n",
    "* [Extremamente Básico](https://www.beecrowd.com.br/judge/pt/problems/view/1001)\n",
    "* [Área do Círculo](https://www.beecrowd.com.br/judge/pt/problems/view/1002)\n",
    "* [Soma Simples](https://www.beecrowd.com.br/judge/pt/problems/view/1003)\n",
    "* [Média](https://www.beecrowd.com.br/judge/pt/problems/view/1006)\n",
    "* [**Soma Natural**](https://www.beecrowd.com.br/judge/pt/problems/view/1805)\n",
    "\n",
    "Condicionais\n",
    "* [O Maior](https://www.beecrowd.com.br/judge/pt/problems/view/1013)\n",
    "* [Intervalo](https://www.beecrowd.com.br/judge/pt/problems/view/1037)\n",
    "* [Lanchonete](https://www.beecrowd.com.br/judge/pt/problems/view/1038)\n",
    "* [Tipos de Triangulo](https://www.beecrowd.com.br/judge/pt/problems/view/1045)\n",
    "* [Tempo de Jogo](https://www.beecrowd.com.br/judge/pt/problems/view/1046)\n",
    "* [Sort Simples](https://www.beecrowd.com.br/judge/pt/problems/view/1042)\n",
    "\n",
    "Loops\n",
    "* [Pares](https://www.beecrowd.com.br/judge/pt/problems/view/1059)\n",
    "* [Intervalo 2](https://www.beecrowd.com.br/judge/pt/problems/view/1072)\n",
    "* [Experiencias](https://www.beecrowd.com.br/judge/pt/problems/view/1094)\n",
    "* [Sequência de Números e Soma](https://www.beecrowd.com.br/judge/pt/problems/view/1101)\n",
    "* [Seuqncia IJ](https://www.beecrowd.com.br/judge/pt/problems/view/1095)\n",
    "* [Senha Fixa](https://www.beecrowd.com.br/judge/pt/problems/view/1114)\n",
    "* [Grenais](https://www.beecrowd.com.br/judge/pt/problems/view/1131)\n",
    "\n",
    "Strings\n",
    "* [Tuitando](https://www.beecrowd.com.br/judge/pt/problems/view/2165)\n",
    "* [Bibilioteca](https://www.beecrowd.com.br/judge/pt/problems/view/2137)\n",
    "* [Salário](https://www.beecrowd.com.br/judge/pt/problems/view/1009)\n",
    "* [**Cifra César**](https://www.beecrowd.com.br/judge/pt/problems/view/1253)\n",
    "* [Conversa](https://www.beecrowd.com.br/judge/pt/problems/view/1581)\n",
    "* [Atalhos](https://www.beecrowd.com.br/judge/pt/problems/view/1239)\n"
   ]
  },
  {
   "cell_type": "code",
   "execution_count": 89,
   "id": "cde14145",
   "metadata": {},
   "outputs": [],
   "source": [
    "def RemovePontuacao(cpf):\n",
    "    novo_cpf = cpf.replace('.', '')\n",
    "    novo_cpf = novo_cpf('-','')\n",
    "    \n",
    "    return novo_cpf"
   ]
  }
 ],
 "metadata": {
  "kernelspec": {
   "display_name": "Python 3",
   "language": "python",
   "name": "python3"
  },
  "language_info": {
   "codemirror_mode": {
    "name": "ipython",
    "version": 3
   },
   "file_extension": ".py",
   "mimetype": "text/x-python",
   "name": "python",
   "nbconvert_exporter": "python",
   "pygments_lexer": "ipython3",
   "version": "3.10.12"
  }
 },
 "nbformat": 4,
 "nbformat_minor": 5
}
